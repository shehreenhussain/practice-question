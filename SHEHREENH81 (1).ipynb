{
 "cells": [
  {
   "cell_type": "code",
   "execution_count": 1,
   "id": "163e91f3",
   "metadata": {},
   "outputs": [
    {
     "name": "stdout",
     "output_type": "stream",
     "text": [
      "shehreen\n",
      "18\n",
      "lahore\n"
     ]
    }
   ],
   "source": [
    "#SHEHREEN HUSSAIN\n",
    "#FA24-BBD-081\n",
    "#QUESTION 1\n",
    "class person:\n",
    "    def __init__(self,name,age,city):\n",
    "        self.name= name\n",
    "        self.age= age\n",
    "        self.city= city\n",
    "my_person= person(\"shehreen\",18,\"lahore\")\n",
    "print(my_person.name)\n",
    "print(my_person.age)\n",
    "print(my_person.city)"
   ]
  },
  {
   "cell_type": "code",
   "execution_count": 2,
   "id": "557956fb",
   "metadata": {},
   "outputs": [
    {
     "name": "stdout",
     "output_type": "stream",
     "text": [
      "toyota\n",
      "2017\n",
      "corolla\n"
     ]
    }
   ],
   "source": [
    "#QUESTION 2\n",
    "class car:\n",
    "    def __init__(self,make,model,year):\n",
    "        self.make= make\n",
    "        self.model= model\n",
    "        self.year= year\n",
    "my_car= car(\"toyota\",2017,\"corolla\")\n",
    "print(my_car.make)\n",
    "print(my_car.model)\n",
    "print(my_car.year)"
   ]
  },
  {
   "cell_type": "code",
   "execution_count": 3,
   "id": "fd1b6c7d",
   "metadata": {},
   "outputs": [
    {
     "name": "stdout",
     "output_type": "stream",
     "text": [
      "Area: 78.54\n",
      "Circumference: 31.42\n"
     ]
    }
   ],
   "source": [
    "#QUESTION 3\n",
    "\n",
    "class Circle:\n",
    "    def __init__(self, radius):\n",
    "        self.radius = radius\n",
    "    \n",
    "    def area(self):\n",
    "        return 3.1416 * self.radius ** 2\n",
    "    \n",
    "    def circumference(self):\n",
    "        return 2 * 3.1416 * self.radius\n",
    "circle = Circle(5)\n",
    "print(f\"Area: {circle.area():.2f}\")\n",
    "print(f\"Circumference: {circle.circumference():.2f}\")\n"
   ]
  },
  {
   "cell_type": "code",
   "execution_count": 4,
   "id": "cf284b27",
   "metadata": {},
   "outputs": [
    {
     "name": "stdout",
     "output_type": "stream",
     "text": [
      "Area: 15\n",
      "Perimeter: 16\n"
     ]
    }
   ],
   "source": [
    "#QUESTION 4\n",
    "class Rectangle:\n",
    "    def __init__(self, length, width):\n",
    "        self.length = length\n",
    "        self.width = width\n",
    "    \n",
    "    def area(self):\n",
    "        return self.length * self.width\n",
    "    \n",
    "    def perimeter(self):\n",
    "        return 2 * (self.length + self.width)\n",
    "\n",
    "rectangle = Rectangle(5, 3)\n",
    "print(f\"Area: {rectangle.area()}\")          \n",
    "print(f\"Perimeter: {rectangle.perimeter()}\")  \n"
   ]
  },
  {
   "cell_type": "code",
   "execution_count": 6,
   "id": "b1e0e54d-02db-4056-a55c-b40c87c3e580",
   "metadata": {},
   "outputs": [
    {
     "name": "stdout",
     "output_type": "stream",
     "text": [
      "Student: Shehreen\n",
      "Roll Number: 81\n",
      "Average Marks: 86.60\n"
     ]
    }
   ],
   "source": [
    "#QUESTION 5\n",
    "class Student:\n",
    "    def __init__(self, name, roll_number, marks):\n",
    "        \n",
    "        self.name = name\n",
    "        self.roll_number = roll_number\n",
    "        self.marks = marks\n",
    "\n",
    "    def calculate_average(self):\n",
    "       \n",
    "        if not self.marks:\n",
    "            return 0  # Handle case where there are no marks\n",
    "        return sum(self.marks) / len(self.marks)\n",
    "\n",
    "\n",
    "# Example usage:\n",
    "student = Student(\"Shehreen\", 81, [85, 90, 78, 92, 88])\n",
    "average_marks = student.calculate_average()\n",
    "print(f\"Student: {student.name}\")\n",
    "print(f\"Roll Number: {student.roll_number}\")\n",
    "print(f\"Average Marks: {average_marks:.2f}\")\n"
   ]
  },
  {
   "cell_type": "code",
   "execution_count": 13,
   "id": "4d3d61b0",
   "metadata": {},
   "outputs": [
    {
     "name": "stdout",
     "output_type": "stream",
     "text": [
      "verity\n",
      "collen hoover\n",
      "2019\n"
     ]
    }
   ],
   "source": [
    "#QUESTION 6\n",
    "class book:\n",
    "    def __init__(self,title,author,publication_year):\n",
    "        self.title= title\n",
    "        self.author= author\n",
    "        self.publication_year= publication_year\n",
    "book1= book(\"verity\",\"collen hoover\",2019)\n",
    "print(book1.title)\n",
    "print(book1.author)\n",
    "print(book1.publication_year)"
   ]
  },
  {
   "cell_type": "code",
   "execution_count": 16,
   "id": "aa606f46",
   "metadata": {},
   "outputs": [
    {
     "name": "stdout",
     "output_type": "stream",
     "text": [
      "shehreen\n",
      "25000\n",
      "banker\n"
     ]
    }
   ],
   "source": [
    "#QUESTION 7\n",
    "class employee:\n",
    "    def __init__(self,name,salary,designation):\n",
    "        self.name= name\n",
    "        self.salary= salary\n",
    "        self.designation= designation\n",
    "employee1= employee(\"shehreen\",25000,\"banker\")\n",
    "print(employee1.name)\n",
    "print(employee1.salary)\n",
    "print(employee1.designation)"
   ]
  },
  {
   "cell_type": "code",
   "execution_count": 10,
   "id": "0946c0e9",
   "metadata": {},
   "outputs": [
    {
     "name": "stdout",
     "output_type": "stream",
     "text": [
      "Account Holder: SHEHREEN\n",
      "Account Number: 123456789\n",
      "Initial Balance: 1000.00\n",
      "Deposited 500.00. New balance: 1500.00\n",
      "Withdrew 300.00. New balance: 1200.00\n",
      "Insufficient funds.\n"
     ]
    },
    {
     "data": {
      "text/plain": [
       "1200"
      ]
     },
     "execution_count": 10,
     "metadata": {},
     "output_type": "execute_result"
    }
   ],
   "source": [
    "#QUESTION 8\n",
    "class Bank:\n",
    "    def __init__(self, name, account_number, balance=0):\n",
    "        \n",
    "        self.name = name\n",
    "        self.account_number = account_number\n",
    "        self.balance = balance\n",
    "\n",
    "    def deposit(self, amount):\n",
    "     \n",
    "        if amount > 0:\n",
    "            self.balance += amount\n",
    "            print(f\"Deposited {amount:.2f}. New balance: {self.balance:.2f}\")\n",
    "        else:\n",
    "            print(\"Deposit amount must be positive.\")\n",
    "        return self.balance\n",
    "\n",
    "    def withdraw(self, amount):\n",
    "       \n",
    "        if amount > self.balance:\n",
    "            print(\"Insufficient funds.\")\n",
    "        elif amount <= 0:\n",
    "            print(\"Withdrawal amount must be positive.\")\n",
    "        else:\n",
    "            self.balance -= amount\n",
    "            print(f\"Withdrew {amount:.2f}. New balance: {self.balance:.2f}\")\n",
    "        return self.balance\n",
    "\n",
    "\n",
    "\n",
    "account = Bank(\"SHEHREEN\", 123456789, 1000)\n",
    "print(f\"Account Holder: {account.name}\")\n",
    "print(f\"Account Number: {account.account_number}\")\n",
    "print(f\"Initial Balance: {account.balance:.2f}\")\n",
    "\n",
    "\n",
    "account.deposit(500)  \n",
    "account.withdraw(300)  \n",
    "account.withdraw(1500) \n"
   ]
  },
  {
   "cell_type": "code",
   "execution_count": null,
   "id": "b16f0587-85d2-45b8-aea6-a1800c34f8d6",
   "metadata": {},
   "outputs": [],
   "source": []
  }
 ],
 "metadata": {
  "kernelspec": {
   "display_name": "Python 3 (ipykernel)",
   "language": "python",
   "name": "python3"
  },
  "language_info": {
   "codemirror_mode": {
    "name": "ipython",
    "version": 3
   },
   "file_extension": ".py",
   "mimetype": "text/x-python",
   "name": "python",
   "nbconvert_exporter": "python",
   "pygments_lexer": "ipython3",
   "version": "3.12.4"
  }
 },
 "nbformat": 4,
 "nbformat_minor": 5
}
